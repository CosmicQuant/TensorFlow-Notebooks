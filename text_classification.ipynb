{
 "cells": [
  {
   "cell_type": "code",
   "execution_count": null,
   "metadata": {
    "execution": {
     "iopub.execute_input": "2023-12-07T03:08:24.349826Z",
     "iopub.status.busy": "2023-12-07T03:08:24.349379Z",
     "iopub.status.idle": "2023-12-07T03:08:26.973546Z",
     "shell.execute_reply": "2023-12-07T03:08:26.972825Z"
    },
    "id": "8RZOuS9LWQvv"
   },
   "outputs": [],
   "source": [
    "import matplotlib.pyplot as plt\n",
    "import os\n",
    "import re\n",
    "import shutil\n",
    "import string\n",
    "import tensorflow as tf\n",
    "\n",
    "from tensorflow.keras import layers\n",
    "from tensorflow.keras import losses\n"
   ]
  },
  {
   "cell_type": "code",
   "execution_count": null,
   "metadata": {
    "execution": {
     "iopub.execute_input": "2023-12-07T03:08:26.984681Z",
     "iopub.status.busy": "2023-12-07T03:08:26.984455Z",
     "iopub.status.idle": "2023-12-07T03:08:51.950665Z",
     "shell.execute_reply": "2023-12-07T03:08:51.949900Z"
    },
    "id": "k7ZYnuajVlFN"
   },
   "outputs": [],
   "source": [
    "url = \"https://ai.stanford.edu/~amaas/data/sentiment/aclImdb_v1.tar.gz\"\n",
    "\n",
    "dataset = tf.keras.utils.get_file(\"aclImdb_v1\", url,\n",
    "                                    untar=True, cache_dir='.',\n",
    "                                    cache_subdir='')\n",
    "\n",
    "dataset_dir = os.path.join(os.path.dirname(dataset), 'aclImdb')"
   ]
  },
  {
   "cell_type": "code",
   "execution_count": null,
   "metadata": {
    "execution": {
     "iopub.execute_input": "2023-12-07T03:08:51.954835Z",
     "iopub.status.busy": "2023-12-07T03:08:51.954547Z",
     "iopub.status.idle": "2023-12-07T03:08:51.961580Z",
     "shell.execute_reply": "2023-12-07T03:08:51.960911Z"
    },
    "id": "355CfOvsV1pl"
   },
   "outputs": [],
   "source": [
    "os.listdir(dataset_dir)"
   ]
  },
  {
   "cell_type": "code",
   "execution_count": null,
   "metadata": {
    "execution": {
     "iopub.execute_input": "2023-12-07T03:08:51.964630Z",
     "iopub.status.busy": "2023-12-07T03:08:51.964379Z",
     "iopub.status.idle": "2023-12-07T03:08:51.969183Z",
     "shell.execute_reply": "2023-12-07T03:08:51.968577Z"
    },
    "id": "7ASND15oXpF1"
   },
   "outputs": [],
   "source": [
    "train_dir = os.path.join(dataset_dir, 'train')\n",
    "os.listdir(train_dir)"
   ]
  },
  {
   "cell_type": "code",
   "execution_count": null,
   "metadata": {
    "execution": {
     "iopub.execute_input": "2023-12-07T03:08:51.972523Z",
     "iopub.status.busy": "2023-12-07T03:08:51.972265Z",
     "iopub.status.idle": "2023-12-07T03:08:51.976373Z",
     "shell.execute_reply": "2023-12-07T03:08:51.975699Z"
    },
    "id": "R7g8hFvzWLIZ"
   },
   "outputs": [],
   "source": [
    "sample_file = os.path.join(train_dir, 'pos/1181_9.txt')\n",
    "with open(sample_file) as f:\n",
    "  print(f.read())"
   ]
  },
  {
   "cell_type": "code",
   "execution_count": null,
   "metadata": {
    "execution": {
     "iopub.execute_input": "2023-12-07T03:08:51.979763Z",
     "iopub.status.busy": "2023-12-07T03:08:51.979510Z",
     "iopub.status.idle": "2023-12-07T03:08:52.854248Z",
     "shell.execute_reply": "2023-12-07T03:08:52.853422Z"
    },
    "id": "VhejsClzaWfl"
   },
   "outputs": [],
   "source": [
    "remove_dir = os.path.join(train_dir, 'unsup')\n",
    "shutil.rmtree(remove_dir)"
   ]
  },
  {
   "cell_type": "code",
   "execution_count": null,
   "metadata": {
    "execution": {
     "iopub.execute_input": "2023-12-07T03:08:52.858753Z",
     "iopub.status.busy": "2023-12-07T03:08:52.858195Z",
     "iopub.status.idle": "2023-12-07T03:08:57.346376Z",
     "shell.execute_reply": "2023-12-07T03:08:57.345613Z"
    },
    "id": "nOrK-MTYaw3C"
   },
   "outputs": [],
   "source": [
    "batch_size = 32\n",
    "seed = 42\n",
    "\n",
    "raw_train_ds = tf.keras.utils.text_dataset_from_directory(\n",
    "    'aclImdb/train', \n",
    "    batch_size=batch_size, \n",
    "    validation_split=0.2, \n",
    "    subset='training', \n",
    "    seed=seed)"
   ]
  },
  {
   "cell_type": "code",
   "execution_count": null,
   "metadata": {
    "execution": {
     "iopub.execute_input": "2023-12-07T03:08:57.350625Z",
     "iopub.status.busy": "2023-12-07T03:08:57.350332Z",
     "iopub.status.idle": "2023-12-07T03:08:57.387941Z",
     "shell.execute_reply": "2023-12-07T03:08:57.387160Z"
    },
    "id": "51wNaPPApk1K"
   },
   "outputs": [],
   "source": [
    "for text_batch, label_batch in raw_train_ds.take(1):\n",
    "  for i in range(3):\n",
    "    print(\"Review\", text_batch.numpy()[i])\n",
    "    print(\"Label\", label_batch.numpy()[i])"
   ]
  },
  {
   "cell_type": "code",
   "execution_count": null,
   "metadata": {
    "execution": {
     "iopub.execute_input": "2023-12-07T03:08:57.391637Z",
     "iopub.status.busy": "2023-12-07T03:08:57.391048Z",
     "iopub.status.idle": "2023-12-07T03:08:57.395218Z",
     "shell.execute_reply": "2023-12-07T03:08:57.394506Z"
    },
    "id": "MlICTG8spyO2"
   },
   "outputs": [],
   "source": [
    "print(\"Label 0 corresponds to\", raw_train_ds.class_names[0])\n",
    "print(\"Label 1 corresponds to\", raw_train_ds.class_names[1])"
   ]
  },
  {
   "cell_type": "code",
   "execution_count": null,
   "metadata": {
    "execution": {
     "iopub.execute_input": "2023-12-07T03:08:57.398670Z",
     "iopub.status.busy": "2023-12-07T03:08:57.398166Z",
     "iopub.status.idle": "2023-12-07T03:08:58.601934Z",
     "shell.execute_reply": "2023-12-07T03:08:58.601226Z"
    },
    "id": "JsMwwhOoqjKF"
   },
   "outputs": [],
   "source": [
    "raw_val_ds = tf.keras.utils.text_dataset_from_directory(\n",
    "    'aclImdb/train', \n",
    "    batch_size=batch_size, \n",
    "    validation_split=0.2, \n",
    "    subset='validation', \n",
    "    seed=seed)"
   ]
  },
  {
   "cell_type": "code",
   "execution_count": null,
   "metadata": {
    "execution": {
     "iopub.execute_input": "2023-12-07T03:08:58.605300Z",
     "iopub.status.busy": "2023-12-07T03:08:58.605033Z",
     "iopub.status.idle": "2023-12-07T03:08:59.808028Z",
     "shell.execute_reply": "2023-12-07T03:08:59.807286Z"
    },
    "id": "rdSr0Nt3q_ns"
   },
   "outputs": [],
   "source": [
    "raw_test_ds = tf.keras.utils.text_dataset_from_directory(\n",
    "    'aclImdb/test', \n",
    "    batch_size=batch_size)"
   ]
  },
  {
   "cell_type": "code",
   "execution_count": null,
   "metadata": {
    "execution": {
     "iopub.execute_input": "2023-12-07T03:08:59.811900Z",
     "iopub.status.busy": "2023-12-07T03:08:59.811625Z",
     "iopub.status.idle": "2023-12-07T03:08:59.815676Z",
     "shell.execute_reply": "2023-12-07T03:08:59.815053Z"
    },
    "id": "SDRI_s_tX1Hk"
   },
   "outputs": [],
   "source": [
    "def custom_standardization(input_data):\n",
    "  lowercase = tf.strings.lower(input_data)\n",
    "  stripped_html = tf.strings.regex_replace(lowercase, '<br />', ' ')\n",
    "  return tf.strings.regex_replace(stripped_html,\n",
    "                                  '[%s]' % re.escape(string.punctuation),\n",
    "                                  '')"
   ]
  },
  {
   "cell_type": "code",
   "execution_count": null,
   "metadata": {
    "execution": {
     "iopub.execute_input": "2023-12-07T03:08:59.818926Z",
     "iopub.status.busy": "2023-12-07T03:08:59.818479Z",
     "iopub.status.idle": "2023-12-07T03:08:59.833160Z",
     "shell.execute_reply": "2023-12-07T03:08:59.832490Z"
    },
    "id": "-c76RvSzsMnX"
   },
   "outputs": [],
   "source": [
    "max_features = 10000\n",
    "sequence_length = 250\n",
    "\n",
    "vectorize_layer = layers.TextVectorization(\n",
    "    standardize=custom_standardization,\n",
    "    max_tokens=max_features,\n",
    "    output_mode='int',\n",
    "    output_sequence_length=sequence_length)"
   ]
  },
  {
   "cell_type": "code",
   "execution_count": null,
   "metadata": {
    "execution": {
     "iopub.execute_input": "2023-12-07T03:08:59.836975Z",
     "iopub.status.busy": "2023-12-07T03:08:59.836472Z",
     "iopub.status.idle": "2023-12-07T03:09:02.200795Z",
     "shell.execute_reply": "2023-12-07T03:09:02.200003Z"
    },
    "id": "GH4_2ZGJsa_X"
   },
   "outputs": [],
   "source": [
    "# Make a text-only dataset (without labels), then call adapt\n",
    "train_text = raw_train_ds.map(lambda x, y: x)\n",
    "vectorize_layer.adapt(train_text)"
   ]
  },
  {
   "cell_type": "code",
   "execution_count": null,
   "metadata": {
    "execution": {
     "iopub.execute_input": "2023-12-07T03:09:02.205405Z",
     "iopub.status.busy": "2023-12-07T03:09:02.204721Z",
     "iopub.status.idle": "2023-12-07T03:09:02.208610Z",
     "shell.execute_reply": "2023-12-07T03:09:02.207965Z"
    },
    "id": "SCIg_T50wOCU"
   },
   "outputs": [],
   "source": [
    "def vectorize_text(text, label):\n",
    "  text = tf.expand_dims(text, -1)\n",
    "  return vectorize_layer(text), label"
   ]
  },
  {
   "cell_type": "code",
   "execution_count": null,
   "metadata": {
    "execution": {
     "iopub.execute_input": "2023-12-07T03:09:02.212138Z",
     "iopub.status.busy": "2023-12-07T03:09:02.211644Z",
     "iopub.status.idle": "2023-12-07T03:09:02.280477Z",
     "shell.execute_reply": "2023-12-07T03:09:02.279755Z"
    },
    "id": "XULcm6B3xQIO"
   },
   "outputs": [],
   "source": [
    "# retrieve a batch (of 32 reviews and labels) from the dataset\n",
    "text_batch, label_batch = next(iter(raw_train_ds))\n",
    "first_review, first_label = text_batch[0], label_batch[0]\n",
    "print(\"Review\", first_review)\n",
    "print(\"Label\", raw_train_ds.class_names[first_label])\n",
    "print(\"Vectorized review\", vectorize_text(first_review, first_label))"
   ]
  },
  {
   "cell_type": "code",
   "execution_count": null,
   "metadata": {
    "execution": {
     "iopub.execute_input": "2023-12-07T03:09:02.283779Z",
     "iopub.status.busy": "2023-12-07T03:09:02.283512Z",
     "iopub.status.idle": "2023-12-07T03:09:02.331164Z",
     "shell.execute_reply": "2023-12-07T03:09:02.330474Z"
    },
    "id": "kRq9hTQzhVhW"
   },
   "outputs": [],
   "source": [
    "print(\"1287 ---> \",vectorize_layer.get_vocabulary()[1287])\n",
    "print(\" 313 ---> \",vectorize_layer.get_vocabulary()[313])\n",
    "print('Vocabulary size: {}'.format(len(vectorize_layer.get_vocabulary())))"
   ]
  },
  {
   "cell_type": "code",
   "execution_count": null,
   "metadata": {
    "execution": {
     "iopub.execute_input": "2023-12-07T03:09:02.334804Z",
     "iopub.status.busy": "2023-12-07T03:09:02.334307Z",
     "iopub.status.idle": "2023-12-07T03:09:02.464572Z",
     "shell.execute_reply": "2023-12-07T03:09:02.463958Z"
    },
    "id": "2zhmpeViI1iG"
   },
   "outputs": [],
   "source": [
    "train_ds = raw_train_ds.map(vectorize_text)\n",
    "val_ds = raw_val_ds.map(vectorize_text)\n",
    "test_ds = raw_test_ds.map(vectorize_text)"
   ]
  },
  {
   "cell_type": "code",
   "execution_count": null,
   "metadata": {
    "execution": {
     "iopub.execute_input": "2023-12-07T03:09:02.468326Z",
     "iopub.status.busy": "2023-12-07T03:09:02.467858Z",
     "iopub.status.idle": "2023-12-07T03:09:02.479461Z",
     "shell.execute_reply": "2023-12-07T03:09:02.478759Z"
    },
    "id": "wMcs_H7izm5m"
   },
   "outputs": [],
   "source": [
    "AUTOTUNE = tf.data.AUTOTUNE\n",
    "\n",
    "train_ds = train_ds.cache().prefetch(buffer_size=AUTOTUNE)\n",
    "val_ds = val_ds.cache().prefetch(buffer_size=AUTOTUNE)\n",
    "test_ds = test_ds.cache().prefetch(buffer_size=AUTOTUNE)"
   ]
  },
  {
   "cell_type": "code",
   "execution_count": null,
   "metadata": {
    "execution": {
     "iopub.execute_input": "2023-12-07T03:09:02.483125Z",
     "iopub.status.busy": "2023-12-07T03:09:02.482553Z",
     "iopub.status.idle": "2023-12-07T03:09:02.485755Z",
     "shell.execute_reply": "2023-12-07T03:09:02.485184Z"
    },
    "id": "dkQP6in8yUBR"
   },
   "outputs": [],
   "source": [
    "embedding_dim = 16"
   ]
  },
  {
   "cell_type": "code",
   "execution_count": null,
   "metadata": {
    "execution": {
     "iopub.execute_input": "2023-12-07T03:09:02.488911Z",
     "iopub.status.busy": "2023-12-07T03:09:02.488433Z",
     "iopub.status.idle": "2023-12-07T03:09:02.550473Z",
     "shell.execute_reply": "2023-12-07T03:09:02.549824Z"
    },
    "id": "xpKOoWgu-llD"
   },
   "outputs": [],
   "source": [
    "model = tf.keras.Sequential([\n",
    "  layers.Embedding(max_features, embedding_dim),\n",
    "  layers.Dropout(0.2),\n",
    "  layers.GlobalAveragePooling1D(),\n",
    "  layers.Dropout(0.2),\n",
    "  layers.Dense(1)])\n",
    "\n",
    "model.summary()"
   ]
  },
  {
   "cell_type": "code",
   "execution_count": null,
   "metadata": {
    "execution": {
     "iopub.execute_input": "2023-12-07T03:09:02.559586Z",
     "iopub.status.busy": "2023-12-07T03:09:02.558876Z",
     "iopub.status.idle": "2023-12-07T03:09:02.576310Z",
     "shell.execute_reply": "2023-12-07T03:09:02.575731Z"
    },
    "id": "Mr0GP-cQ-llN"
   },
   "outputs": [],
   "source": [
    "model.compile(loss=losses.BinaryCrossentropy(from_logits=True),\n",
    "              optimizer='adam',\n",
    "              metrics=tf.metrics.BinaryAccuracy(threshold=0.0))"
   ]
  },
  {
   "cell_type": "code",
   "execution_count": null,
   "metadata": {
    "execution": {
     "iopub.execute_input": "2023-12-07T03:09:02.580185Z",
     "iopub.status.busy": "2023-12-07T03:09:02.579585Z",
     "iopub.status.idle": "2023-12-07T03:10:06.859914Z",
     "shell.execute_reply": "2023-12-07T03:10:06.858775Z"
    },
    "id": "tXSGrjWZ-llW"
   },
   "outputs": [],
   "source": [
    "epochs = 10\n",
    "history = model.fit(\n",
    "    train_ds,\n",
    "    validation_data=val_ds,\n",
    "    epochs=epochs)"
   ]
  },
  {
   "cell_type": "code",
   "execution_count": null,
   "metadata": {
    "execution": {
     "iopub.execute_input": "2023-12-07T03:10:06.864242Z",
     "iopub.status.busy": "2023-12-07T03:10:06.863673Z",
     "iopub.status.idle": "2023-12-07T03:10:08.515772Z",
     "shell.execute_reply": "2023-12-07T03:10:08.514951Z"
    },
    "id": "zOMKywn4zReN"
   },
   "outputs": [],
   "source": [
    "loss, accuracy = model.evaluate(test_ds)\n",
    "\n",
    "print(\"Loss: \", loss)\n",
    "print(\"Accuracy: \", accuracy)"
   ]
  },
  {
   "cell_type": "code",
   "execution_count": null,
   "metadata": {
    "execution": {
     "iopub.execute_input": "2023-12-07T03:10:08.519469Z",
     "iopub.status.busy": "2023-12-07T03:10:08.519186Z",
     "iopub.status.idle": "2023-12-07T03:10:08.523994Z",
     "shell.execute_reply": "2023-12-07T03:10:08.523313Z"
    },
    "id": "-YcvZsdvWfDf"
   },
   "outputs": [],
   "source": [
    "history_dict = history.history\n",
    "history_dict.keys()"
   ]
  },
  {
   "cell_type": "code",
   "execution_count": null,
   "metadata": {
    "execution": {
     "iopub.execute_input": "2023-12-07T03:10:08.527546Z",
     "iopub.status.busy": "2023-12-07T03:10:08.526899Z",
     "iopub.status.idle": "2023-12-07T03:10:08.680269Z",
     "shell.execute_reply": "2023-12-07T03:10:08.679671Z"
    },
    "id": "2SEMeQ5YXs8z"
   },
   "outputs": [],
   "source": [
    "acc = history_dict['binary_accuracy']\n",
    "val_acc = history_dict['val_binary_accuracy']\n",
    "loss = history_dict['loss']\n",
    "val_loss = history_dict['val_loss']\n",
    "\n",
    "epochs = range(1, len(acc) + 1)\n",
    "\n",
    "# \"bo\" is for \"blue dot\"\n",
    "plt.plot(epochs, loss, 'bo', label='Training loss')\n",
    "# b is for \"solid blue line\"\n",
    "plt.plot(epochs, val_loss, 'b', label='Validation loss')\n",
    "plt.title('Training and validation loss')\n",
    "plt.xlabel('Epochs')\n",
    "plt.ylabel('Loss')\n",
    "plt.legend()\n",
    "\n",
    "plt.show()"
   ]
  },
  {
   "cell_type": "code",
   "execution_count": null,
   "metadata": {
    "execution": {
     "iopub.execute_input": "2023-12-07T03:10:08.683575Z",
     "iopub.status.busy": "2023-12-07T03:10:08.683186Z",
     "iopub.status.idle": "2023-12-07T03:10:08.821271Z",
     "shell.execute_reply": "2023-12-07T03:10:08.820676Z"
    },
    "id": "Z3PJemLPXwz_"
   },
   "outputs": [],
   "source": [
    "plt.plot(epochs, acc, 'bo', label='Training acc')\n",
    "plt.plot(epochs, val_acc, 'b', label='Validation acc')\n",
    "plt.title('Training and validation accuracy')\n",
    "plt.xlabel('Epochs')\n",
    "plt.ylabel('Accuracy')\n",
    "plt.legend(loc='lower right')\n",
    "\n",
    "plt.show()"
   ]
  },
  {
   "cell_type": "code",
   "execution_count": null,
   "metadata": {
    "execution": {
     "iopub.execute_input": "2023-12-07T03:10:08.824806Z",
     "iopub.status.busy": "2023-12-07T03:10:08.824256Z",
     "iopub.status.idle": "2023-12-07T03:10:12.064787Z",
     "shell.execute_reply": "2023-12-07T03:10:12.064013Z"
    },
    "id": "FWXsMvryuZuq"
   },
   "outputs": [],
   "source": [
    "export_model = tf.keras.Sequential([\n",
    "  vectorize_layer,\n",
    "  model,\n",
    "  layers.Activation('sigmoid')\n",
    "])\n",
    "\n",
    "export_model.compile(\n",
    "    loss=losses.BinaryCrossentropy(from_logits=False), optimizer=\"adam\", metrics=['accuracy']\n",
    ")\n",
    "\n",
    "# Test it with `raw_test_ds`, which yields raw strings\n",
    "loss, accuracy = export_model.evaluate(raw_test_ds)\n",
    "print(accuracy)"
   ]
  },
  {
   "cell_type": "code",
   "execution_count": null,
   "metadata": {
    "execution": {
     "iopub.execute_input": "2023-12-07T03:10:12.068846Z",
     "iopub.status.busy": "2023-12-07T03:10:12.068154Z",
     "iopub.status.idle": "2023-12-07T03:10:12.291671Z",
     "shell.execute_reply": "2023-12-07T03:10:12.290878Z"
    },
    "id": "QW355HH5L49K"
   },
   "outputs": [],
   "source": [
    "examples = [\n",
    "  \"The movie was great!\",\n",
    "  \"The movie was okay.\",\n",
    "  \"The movie was terrible...\"\n",
    "]\n",
    "\n",
    "export_model.predict(examples)"
   ]
  }
 ],
 "metadata": {
  "accelerator": "GPU",
  "colab": {
   "collapsed_sections": [],
   "name": "text_classification.ipynb",
   "toc_visible": true
  },
  "kernelspec": {
   "display_name": "Python 3",
   "name": "python3"
  },
  "language_info": {
   "codemirror_mode": {
    "name": "ipython",
    "version": 3
   },
   "file_extension": ".py",
   "mimetype": "text/x-python",
   "name": "python",
   "nbconvert_exporter": "python",
   "pygments_lexer": "ipython3",
   "version": "3.11.2"
  }
 },
 "nbformat": 4,
 "nbformat_minor": 0
}
