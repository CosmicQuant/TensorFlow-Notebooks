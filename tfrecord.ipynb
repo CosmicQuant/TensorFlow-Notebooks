{
 "cells": [
  {
   "cell_type": "code",
   "execution_count": null,
   "metadata": {
    "execution": {
     "iopub.execute_input": "2023-09-28T01:21:03.644153Z",
     "iopub.status.busy": "2023-09-28T01:21:03.643687Z",
     "iopub.status.idle": "2023-09-28T01:21:06.016513Z",
     "shell.execute_reply": "2023-09-28T01:21:06.015762Z"
    },
    "id": "Ja7sezsmnXph"
   },
   "outputs": [],
   "source": [
    "import tensorflow as tf\n",
    "\n",
    "import numpy as np\n",
    "import IPython.display as display"
   ]
  },
  {
   "cell_type": "code",
   "execution_count": null,
   "metadata": {
    "execution": {
     "iopub.execute_input": "2023-09-28T01:21:06.021389Z",
     "iopub.status.busy": "2023-09-28T01:21:06.020762Z",
     "iopub.status.idle": "2023-09-28T01:21:06.026340Z",
     "shell.execute_reply": "2023-09-28T01:21:06.025709Z"
    },
    "id": "mbsPOUpVtYxA"
   },
   "outputs": [],
   "source": [
    "# The following functions can be used to convert a value to a type compatible\n",
    "# with tf.train.Example.\n",
    "\n",
    "def _bytes_feature(value):\n",
    "  \"\"\"Returns a bytes_list from a string / byte.\"\"\"\n",
    "  if isinstance(value, type(tf.constant(0))):\n",
    "    value = value.numpy() # BytesList won't unpack a string from an EagerTensor.\n",
    "  return tf.train.Feature(bytes_list=tf.train.BytesList(value=[value]))\n",
    "\n",
    "def _float_feature(value):\n",
    "  \"\"\"Returns a float_list from a float / double.\"\"\"\n",
    "  return tf.train.Feature(float_list=tf.train.FloatList(value=[value]))\n",
    "\n",
    "def _int64_feature(value):\n",
    "  \"\"\"Returns an int64_list from a bool / enum / int / uint.\"\"\"\n",
    "  return tf.train.Feature(int64_list=tf.train.Int64List(value=[value]))"
   ]
  },
  {
   "cell_type": "code",
   "execution_count": null,
   "metadata": {
    "execution": {
     "iopub.execute_input": "2023-09-28T01:21:06.030109Z",
     "iopub.status.busy": "2023-09-28T01:21:06.029547Z",
     "iopub.status.idle": "2023-09-28T01:21:06.628307Z",
     "shell.execute_reply": "2023-09-28T01:21:06.627504Z"
    },
    "id": "hZzyLGr0u73y"
   },
   "outputs": [],
   "source": [
    "print(_bytes_feature(b'test_string'))\n",
    "print(_bytes_feature(u'test_bytes'.encode('utf-8')))\n",
    "\n",
    "print(_float_feature(np.exp(1)))\n",
    "\n",
    "print(_int64_feature(True))\n",
    "print(_int64_feature(1))"
   ]
  },
  {
   "cell_type": "code",
   "execution_count": null,
   "metadata": {
    "execution": {
     "iopub.execute_input": "2023-09-28T01:21:06.633048Z",
     "iopub.status.busy": "2023-09-28T01:21:06.632399Z",
     "iopub.status.idle": "2023-09-28T01:21:06.638802Z",
     "shell.execute_reply": "2023-09-28T01:21:06.638147Z"
    },
    "id": "5afZkORT5pjm"
   },
   "outputs": [],
   "source": [
    "feature = _float_feature(np.exp(1))\n",
    "\n",
    "feature.SerializeToString()"
   ]
  },
  {
   "cell_type": "code",
   "execution_count": null,
   "metadata": {
    "execution": {
     "iopub.execute_input": "2023-09-28T01:21:06.642227Z",
     "iopub.status.busy": "2023-09-28T01:21:06.641703Z",
     "iopub.status.idle": "2023-09-28T01:21:06.646404Z",
     "shell.execute_reply": "2023-09-28T01:21:06.645821Z"
    },
    "id": "CnrguFAy3YQv"
   },
   "outputs": [],
   "source": [
    "# The number of observations in the dataset.\n",
    "n_observations = int(1e4)\n",
    "\n",
    "# Boolean feature, encoded as False or True.\n",
    "feature0 = np.random.choice([False, True], n_observations)\n",
    "\n",
    "# Integer feature, random from 0 to 4.\n",
    "feature1 = np.random.randint(0, 5, n_observations)\n",
    "\n",
    "# String feature.\n",
    "strings = np.array([b'cat', b'dog', b'chicken', b'horse', b'goat'])\n",
    "feature2 = strings[feature1]\n",
    "\n",
    "# Float feature, from a standard normal distribution.\n",
    "feature3 = np.random.randn(n_observations)"
   ]
  },
  {
   "cell_type": "code",
   "execution_count": null,
   "metadata": {
    "execution": {
     "iopub.execute_input": "2023-09-28T01:21:06.649640Z",
     "iopub.status.busy": "2023-09-28T01:21:06.649201Z",
     "iopub.status.idle": "2023-09-28T01:21:06.653461Z",
     "shell.execute_reply": "2023-09-28T01:21:06.652920Z"
    },
    "id": "RTCS49Ij_kUw"
   },
   "outputs": [],
   "source": [
    "@tf.py_function(Tout=tf.string)\n",
    "def serialize_example(feature0, feature1, feature2, feature3):\n",
    "  \"\"\"\n",
    "  Creates a tf.train.Example message ready to be written to a file.\n",
    "  \"\"\"\n",
    "  # Create a dictionary mapping the feature name to the tf.train.Example-compatible\n",
    "  # data type.\n",
    "  feature = {\n",
    "      'feature0': _int64_feature(feature0),\n",
    "      'feature1': _int64_feature(feature1),\n",
    "      'feature2': _bytes_feature(feature2),\n",
    "      'feature3': _float_feature(feature3),\n",
    "  }\n",
    "\n",
    "  # Create a Features message using tf.train.Example.\n",
    "\n",
    "  example_proto = tf.train.Example(features=tf.train.Features(feature=feature))\n",
    "  return example_proto.SerializeToString()"
   ]
  },
  {
   "cell_type": "code",
   "execution_count": null,
   "metadata": {
    "execution": {
     "iopub.execute_input": "2023-09-28T01:21:06.656665Z",
     "iopub.status.busy": "2023-09-28T01:21:06.656145Z",
     "iopub.status.idle": "2023-09-28T01:21:06.666507Z",
     "shell.execute_reply": "2023-09-28T01:21:06.665965Z"
    },
    "id": "N8BtSx2RjYcb"
   },
   "outputs": [],
   "source": [
    "# This is an example observation from the dataset.\n",
    "\n",
    "example_observation = []\n",
    "\n",
    "serialized_example = serialize_example(False, 4, b'goat', 0.9876)\n",
    "serialized_example.numpy()"
   ]
  },
  {
   "cell_type": "code",
   "execution_count": null,
   "metadata": {
    "execution": {
     "iopub.execute_input": "2023-09-28T01:21:06.669934Z",
     "iopub.status.busy": "2023-09-28T01:21:06.669345Z",
     "iopub.status.idle": "2023-09-28T01:21:06.673948Z",
     "shell.execute_reply": "2023-09-28T01:21:06.673352Z"
    },
    "id": "dGim-mEm6vit"
   },
   "outputs": [],
   "source": [
    "example_proto = tf.train.Example.FromString(serialized_example.numpy())\n",
    "example_proto"
   ]
  },
  {
   "cell_type": "code",
   "execution_count": null,
   "metadata": {
    "execution": {
     "iopub.execute_input": "2023-09-28T01:21:06.677889Z",
     "iopub.status.busy": "2023-09-28T01:21:06.677375Z",
     "iopub.status.idle": "2023-09-28T01:21:06.680465Z",
     "shell.execute_reply": "2023-09-28T01:21:06.679864Z"
    },
    "id": "gxB_cwlN0DLy"
   },
   "outputs": [],
   "source": [
    "filename = 'test.tfrecord'"
   ]
  },
  {
   "cell_type": "code",
   "execution_count": null,
   "metadata": {
    "execution": {
     "iopub.execute_input": "2023-09-28T01:21:06.683687Z",
     "iopub.status.busy": "2023-09-28T01:21:06.683148Z",
     "iopub.status.idle": "2023-09-28T01:21:20.798997Z",
     "shell.execute_reply": "2023-09-28T01:21:20.798242Z"
    },
    "id": "MKPHzoGv7q44"
   },
   "outputs": [],
   "source": [
    "# Write the `tf.train.Example` observations to the file.\n",
    "with tf.io.TFRecordWriter(filename) as writer:\n",
    "  for i in range(n_observations):\n",
    "    example = serialize_example(feature0[i], feature1[i], feature2[i], feature3[i])\n",
    "    writer.write(example.numpy())"
   ]
  },
  {
   "cell_type": "code",
   "execution_count": null,
   "metadata": {
    "execution": {
     "iopub.execute_input": "2023-09-28T01:21:20.802973Z",
     "iopub.status.busy": "2023-09-28T01:21:20.802719Z",
     "iopub.status.idle": "2023-09-28T01:21:20.945706Z",
     "shell.execute_reply": "2023-09-28T01:21:20.944848Z"
    },
    "id": "EjdFHHJMpUUo"
   },
   "outputs": [],
   "source": [
    "!du -sh {filename}"
   ]
  },
  {
   "cell_type": "code",
   "execution_count": null,
   "metadata": {
    "execution": {
     "iopub.execute_input": "2023-09-28T01:21:20.949702Z",
     "iopub.status.busy": "2023-09-28T01:21:20.949424Z",
     "iopub.status.idle": "2023-09-28T01:21:21.120522Z",
     "shell.execute_reply": "2023-09-28T01:21:21.119869Z"
    },
    "id": "U3tnd3LerOtV"
   },
   "outputs": [],
   "source": [
    "filenames = [filename]\n",
    "raw_dataset = tf.data.TFRecordDataset(filenames)\n",
    "raw_dataset"
   ]
  },
  {
   "cell_type": "code",
   "execution_count": null,
   "metadata": {
    "execution": {
     "iopub.execute_input": "2023-09-28T01:21:21.123731Z",
     "iopub.status.busy": "2023-09-28T01:21:21.123490Z",
     "iopub.status.idle": "2023-09-28T01:21:21.145450Z",
     "shell.execute_reply": "2023-09-28T01:21:21.144759Z"
    },
    "id": "nsEAACHcnm3f"
   },
   "outputs": [],
   "source": [
    "for raw_record in raw_dataset.take(1):\n",
    "  example = tf.train.Example()\n",
    "  example.ParseFromString(raw_record.numpy())\n",
    "  print(example)"
   ]
  },
  {
   "cell_type": "code",
   "execution_count": null,
   "metadata": {
    "execution": {
     "iopub.execute_input": "2023-09-28T01:21:21.148542Z",
     "iopub.status.busy": "2023-09-28T01:21:21.148300Z",
     "iopub.status.idle": "2023-09-28T01:21:21.154374Z",
     "shell.execute_reply": "2023-09-28T01:21:21.153817Z"
    },
    "id": "Ziv9tiNE1l6J"
   },
   "outputs": [],
   "source": [
    "result = {}\n",
    "# example.features.feature is the dictionary\n",
    "for key, feature in example.features.feature.items():\n",
    "  # The values are the Feature objects which contain a `kind` which contains:\n",
    "  # one of three fields: bytes_list, float_list, int64_list\n",
    "\n",
    "  kind = feature.WhichOneof('kind')\n",
    "  result[key] = np.array(getattr(feature, kind).value)\n",
    "\n",
    "result"
   ]
  },
  {
   "cell_type": "code",
   "execution_count": null,
   "metadata": {
    "execution": {
     "iopub.execute_input": "2023-09-28T01:21:21.157859Z",
     "iopub.status.busy": "2023-09-28T01:21:21.157259Z",
     "iopub.status.idle": "2023-09-28T01:21:21.169367Z",
     "shell.execute_reply": "2023-09-28T01:21:21.168738Z"
    },
    "id": "6OjX6UZl-bHC"
   },
   "outputs": [],
   "source": [
    "filenames = [filename]\n",
    "raw_dataset = tf.data.TFRecordDataset(filenames)\n",
    "raw_dataset"
   ]
  },
  {
   "cell_type": "code",
   "execution_count": null,
   "metadata": {
    "execution": {
     "iopub.execute_input": "2023-09-28T01:21:21.172720Z",
     "iopub.status.busy": "2023-09-28T01:21:21.172069Z",
     "iopub.status.idle": "2023-09-28T01:21:21.189013Z",
     "shell.execute_reply": "2023-09-28T01:21:21.188343Z"
    },
    "id": "hxVXpLz_AJlm"
   },
   "outputs": [],
   "source": [
    "for raw_record in raw_dataset.take(10):\n",
    "  print(repr(raw_record))"
   ]
  },
  {
   "cell_type": "code",
   "execution_count": null,
   "metadata": {
    "execution": {
     "iopub.execute_input": "2023-09-28T01:21:21.192241Z",
     "iopub.status.busy": "2023-09-28T01:21:21.191972Z",
     "iopub.status.idle": "2023-09-28T01:21:21.196664Z",
     "shell.execute_reply": "2023-09-28T01:21:21.195997Z"
    },
    "id": "zQjbIR1nleiy"
   },
   "outputs": [],
   "source": [
    "# Create a description of the features.\n",
    "feature_description = {\n",
    "    'feature0': tf.io.FixedLenFeature([], tf.int64, default_value=0),\n",
    "    'feature1': tf.io.FixedLenFeature([], tf.int64, default_value=0),\n",
    "    'feature2': tf.io.FixedLenFeature([], tf.string, default_value=''),\n",
    "    'feature3': tf.io.FixedLenFeature([], tf.float32, default_value=0.0),\n",
    "}\n",
    "\n",
    "def _parse_function(example_proto):\n",
    "  # Parse the input `tf.train.Example` proto using the dictionary above.\n",
    "  return tf.io.parse_single_example(example_proto, feature_description)"
   ]
  },
  {
   "cell_type": "code",
   "execution_count": null,
   "metadata": {
    "execution": {
     "iopub.execute_input": "2023-09-28T01:21:21.199998Z",
     "iopub.status.busy": "2023-09-28T01:21:21.199576Z",
     "iopub.status.idle": "2023-09-28T01:21:21.242988Z",
     "shell.execute_reply": "2023-09-28T01:21:21.242398Z"
    },
    "id": "6Ob7D-zmBm1w"
   },
   "outputs": [],
   "source": [
    "parsed_dataset = raw_dataset.map(_parse_function)\n",
    "parsed_dataset"
   ]
  },
  {
   "cell_type": "code",
   "execution_count": null,
   "metadata": {
    "execution": {
     "iopub.execute_input": "2023-09-28T01:21:21.246071Z",
     "iopub.status.busy": "2023-09-28T01:21:21.245795Z",
     "iopub.status.idle": "2023-09-28T01:21:21.275424Z",
     "shell.execute_reply": "2023-09-28T01:21:21.274735Z"
    },
    "id": "x2LT2JCqhoD_"
   },
   "outputs": [],
   "source": [
    "for parsed_record in parsed_dataset.take(10):\n",
    "  print(repr(parsed_record))"
   ]
  },
  {
   "cell_type": "code",
   "execution_count": null,
   "metadata": {
    "execution": {
     "iopub.execute_input": "2023-09-28T01:21:21.279520Z",
     "iopub.status.busy": "2023-09-28T01:21:21.278888Z",
     "iopub.status.idle": "2023-09-28T01:21:21.492064Z",
     "shell.execute_reply": "2023-09-28T01:21:21.491375Z"
    },
    "id": "3a0fmwg8lHdF"
   },
   "outputs": [],
   "source": [
    "cat_in_snow  = tf.keras.utils.get_file(\n",
    "    '320px-Felis_catus-cat_on_snow.jpg',\n",
    "    'https://storage.googleapis.com/download.tensorflow.org/example_images/320px-Felis_catus-cat_on_snow.jpg')\n",
    "\n",
    "williamsburg_bridge = tf.keras.utils.get_file(\n",
    "    '194px-New_East_River_Bridge_from_Brooklyn_det.4a09796u.jpg',\n",
    "    'https://storage.googleapis.com/download.tensorflow.org/example_images/194px-New_East_River_Bridge_from_Brooklyn_det.4a09796u.jpg')"
   ]
  },
  {
   "cell_type": "code",
   "execution_count": null,
   "metadata": {
    "execution": {
     "iopub.execute_input": "2023-09-28T01:21:21.495301Z",
     "iopub.status.busy": "2023-09-28T01:21:21.495026Z",
     "iopub.status.idle": "2023-09-28T01:21:21.501631Z",
     "shell.execute_reply": "2023-09-28T01:21:21.501008Z"
    },
    "id": "7aJJh7vENeE4"
   },
   "outputs": [],
   "source": [
    "display.display(display.Image(filename=cat_in_snow))\n",
    "display.display(display.HTML('Image cc-by: <a \"href=https://commons.wikimedia.org/wiki/File:Felis_catus-cat_on_snow.jpg\">Von.grzanka</a>'))"
   ]
  },
  {
   "cell_type": "code",
   "execution_count": null,
   "metadata": {
    "execution": {
     "iopub.execute_input": "2023-09-28T01:21:21.504455Z",
     "iopub.status.busy": "2023-09-28T01:21:21.504217Z",
     "iopub.status.idle": "2023-09-28T01:21:21.510558Z",
     "shell.execute_reply": "2023-09-28T01:21:21.509871Z"
    },
    "id": "KkW0uuhcXZqA"
   },
   "outputs": [],
   "source": [
    "display.display(display.Image(filename=williamsburg_bridge))\n",
    "display.display(display.HTML('<a \"href=https://commons.wikimedia.org/wiki/File:New_East_River_Bridge_from_Brooklyn_det.4a09796u.jpg\">From Wikimedia</a>'))"
   ]
  },
  {
   "cell_type": "code",
   "execution_count": null,
   "metadata": {
    "execution": {
     "iopub.execute_input": "2023-09-28T01:21:21.513703Z",
     "iopub.status.busy": "2023-09-28T01:21:21.513451Z",
     "iopub.status.idle": "2023-09-28T01:21:21.516808Z",
     "shell.execute_reply": "2023-09-28T01:21:21.516091Z"
    },
    "id": "kC4TS1ZEONHr"
   },
   "outputs": [],
   "source": [
    "image_labels = {\n",
    "    cat_in_snow : 0,\n",
    "    williamsburg_bridge : 1,\n",
    "}"
   ]
  },
  {
   "cell_type": "code",
   "execution_count": null,
   "metadata": {
    "execution": {
     "iopub.execute_input": "2023-09-28T01:21:21.519646Z",
     "iopub.status.busy": "2023-09-28T01:21:21.519395Z",
     "iopub.status.idle": "2023-09-28T01:21:21.528257Z",
     "shell.execute_reply": "2023-09-28T01:21:21.527581Z"
    },
    "id": "c5njMSYNEhNZ"
   },
   "outputs": [],
   "source": [
    "# This is an example, just using the cat image.\n",
    "image_string = open(cat_in_snow, 'rb').read()\n",
    "\n",
    "label = image_labels[cat_in_snow]\n",
    "\n",
    "# Create a dictionary with features that may be relevant.\n",
    "def image_example(image_string, label):\n",
    "  image_shape = tf.io.decode_jpeg(image_string).shape\n",
    "\n",
    "  feature = {\n",
    "      'height': _int64_feature(image_shape[0]),\n",
    "      'width': _int64_feature(image_shape[1]),\n",
    "      'depth': _int64_feature(image_shape[2]),\n",
    "      'label': _int64_feature(label),\n",
    "      'image_raw': _bytes_feature(image_string),\n",
    "  }\n",
    "\n",
    "  return tf.train.Example(features=tf.train.Features(feature=feature))\n",
    "\n",
    "for line in str(image_example(image_string, label)).split('\\n')[:15]:\n",
    "  print(line)\n",
    "print('...')"
   ]
  },
  {
   "cell_type": "code",
   "execution_count": null,
   "metadata": {
    "execution": {
     "iopub.execute_input": "2023-09-28T01:21:21.531220Z",
     "iopub.status.busy": "2023-09-28T01:21:21.530976Z",
     "iopub.status.idle": "2023-09-28T01:21:21.537018Z",
     "shell.execute_reply": "2023-09-28T01:21:21.536398Z"
    },
    "id": "qcw06lQCOCZU"
   },
   "outputs": [],
   "source": [
    "# Write the raw image files to `images.tfrecords`.\n",
    "# First, process the two images into `tf.train.Example` messages.\n",
    "# Then, write to a `.tfrecords` file.\n",
    "record_file = 'images.tfrecords'\n",
    "with tf.io.TFRecordWriter(record_file) as writer:\n",
    "  for filename, label in image_labels.items():\n",
    "    image_string = open(filename, 'rb').read()\n",
    "    tf_example = image_example(image_string, label)\n",
    "    writer.write(tf_example.SerializeToString())"
   ]
  },
  {
   "cell_type": "code",
   "execution_count": null,
   "metadata": {
    "execution": {
     "iopub.execute_input": "2023-09-28T01:21:21.539969Z",
     "iopub.status.busy": "2023-09-28T01:21:21.539709Z",
     "iopub.status.idle": "2023-09-28T01:21:21.679094Z",
     "shell.execute_reply": "2023-09-28T01:21:21.678197Z"
    },
    "id": "yJrTe6tHPCfs"
   },
   "outputs": [],
   "source": [
    "!du -sh {record_file}"
   ]
  },
  {
   "cell_type": "code",
   "execution_count": null,
   "metadata": {
    "execution": {
     "iopub.execute_input": "2023-09-28T01:21:21.683118Z",
     "iopub.status.busy": "2023-09-28T01:21:21.682846Z",
     "iopub.status.idle": "2023-09-28T01:21:21.742551Z",
     "shell.execute_reply": "2023-09-28T01:21:21.741968Z"
    },
    "id": "M6Cnfd3cTKHN"
   },
   "outputs": [],
   "source": [
    "raw_image_dataset = tf.data.TFRecordDataset('images.tfrecords')\n",
    "\n",
    "# Create a dictionary describing the features.\n",
    "image_feature_description = {\n",
    "    'height': tf.io.FixedLenFeature([], tf.int64),\n",
    "    'width': tf.io.FixedLenFeature([], tf.int64),\n",
    "    'depth': tf.io.FixedLenFeature([], tf.int64),\n",
    "    'label': tf.io.FixedLenFeature([], tf.int64),\n",
    "    'image_raw': tf.io.FixedLenFeature([], tf.string),\n",
    "}\n",
    "\n",
    "def _parse_image_function(example_proto):\n",
    "  # Parse the input tf.train.Example proto using the dictionary above.\n",
    "  return tf.io.parse_single_example(example_proto, image_feature_description)\n",
    "\n",
    "parsed_image_dataset = raw_image_dataset.map(_parse_image_function)\n",
    "parsed_image_dataset"
   ]
  },
  {
   "cell_type": "code",
   "execution_count": null,
   "metadata": {
    "execution": {
     "iopub.execute_input": "2023-09-28T01:21:21.745782Z",
     "iopub.status.busy": "2023-09-28T01:21:21.745551Z",
     "iopub.status.idle": "2023-09-28T01:21:21.773404Z",
     "shell.execute_reply": "2023-09-28T01:21:21.772753Z"
    },
    "id": "yZf8jOyEIjSF"
   },
   "outputs": [],
   "source": [
    "for image_features in parsed_image_dataset:\n",
    "  image_raw = image_features['image_raw'].numpy()\n",
    "  display.display(display.Image(data=image_raw))"
   ]
  }
 ],
 "metadata": {
  "colab": {
   "collapsed_sections": [
    "pL--_KGdYoBz"
   ],
   "name": "tfrecord.ipynb",
   "private_outputs": true,
   "provenance": [],
   "toc_visible": true
  },
  "kernelspec": {
   "display_name": "Python 3",
   "name": "python3"
  },
  "language_info": {
   "codemirror_mode": {
    "name": "ipython",
    "version": 3
   },
   "file_extension": ".py",
   "mimetype": "text/x-python",
   "name": "python",
   "nbconvert_exporter": "python",
   "pygments_lexer": "ipython3",
   "version": "3.11.2"
  }
 },
 "nbformat": 4,
 "nbformat_minor": 0
}
