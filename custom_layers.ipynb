{
  "cells": [
    {
      "cell_type": "code",
      "execution_count": 1,
      "metadata": {
        "id": "Py0m-N6VgQFJ"
      },
      "outputs": [],
      "source": [
        "import tensorflow as tf"
      ]
    },
    {
      "cell_type": "code",
      "execution_count": 2,
      "metadata": {
        "id": "TluWFcB_2nP5",
        "colab": {
          "base_uri": "https://localhost:8080/"
        },
        "outputId": "b6682447-ed88-4d93-e1a4-9ef429a76622"
      },
      "outputs": [
        {
          "output_type": "stream",
          "name": "stdout",
          "text": [
            "[]\n"
          ]
        }
      ],
      "source": [
        "print(tf.config.list_physical_devices('GPU'))"
      ]
    },
    {
      "cell_type": "code",
      "execution_count": 3,
      "metadata": {
        "id": "8PyXlPl-4TzQ"
      },
      "outputs": [],
      "source": [
        "# In the tf.keras.layers package, layers are objects. To construct a layer,\n",
        "# simply construct the object. Most layers take as a first argument the number\n",
        "# of output dimensions / channels.\n",
        "layer = tf.keras.layers.Dense(100)\n",
        "# The number of input dimensions is often unnecessary, as it can be inferred\n",
        "# the first time the layer is used, but it can be provided if you want to\n",
        "# specify it manually, which is useful in some complex models.\n",
        "layer = tf.keras.layers.Dense(10, input_shape=(None, 5))"
      ]
    },
    {
      "cell_type": "code",
      "execution_count": 4,
      "metadata": {
        "id": "E3XKNknP5Mhb",
        "colab": {
          "base_uri": "https://localhost:8080/"
        },
        "outputId": "2f5326f1-e946-42cc-8fc9-1ef24f56e2d1"
      },
      "outputs": [
        {
          "output_type": "execute_result",
          "data": {
            "text/plain": [
              "<tf.Tensor: shape=(10, 10), dtype=float32, numpy=\n",
              "array([[0., 0., 0., 0., 0., 0., 0., 0., 0., 0.],\n",
              "       [0., 0., 0., 0., 0., 0., 0., 0., 0., 0.],\n",
              "       [0., 0., 0., 0., 0., 0., 0., 0., 0., 0.],\n",
              "       [0., 0., 0., 0., 0., 0., 0., 0., 0., 0.],\n",
              "       [0., 0., 0., 0., 0., 0., 0., 0., 0., 0.],\n",
              "       [0., 0., 0., 0., 0., 0., 0., 0., 0., 0.],\n",
              "       [0., 0., 0., 0., 0., 0., 0., 0., 0., 0.],\n",
              "       [0., 0., 0., 0., 0., 0., 0., 0., 0., 0.],\n",
              "       [0., 0., 0., 0., 0., 0., 0., 0., 0., 0.],\n",
              "       [0., 0., 0., 0., 0., 0., 0., 0., 0., 0.]], dtype=float32)>"
            ]
          },
          "metadata": {},
          "execution_count": 4
        }
      ],
      "source": [
        "# To use a layer, simply call it.\n",
        "layer(tf.zeros([10, 5]))"
      ]
    },
    {
      "cell_type": "code",
      "execution_count": 5,
      "metadata": {
        "id": "Wt_Nsv-L5t2s",
        "colab": {
          "base_uri": "https://localhost:8080/"
        },
        "outputId": "1760528b-d445-45f3-d520-c9b835159406"
      },
      "outputs": [
        {
          "output_type": "execute_result",
          "data": {
            "text/plain": [
              "[<tf.Variable 'dense_1/kernel:0' shape=(5, 10) dtype=float32, numpy=\n",
              " array([[ 0.61700565,  0.2815616 ,  0.09467947, -0.6033537 , -0.1821346 ,\n",
              "         -0.03948337,  0.31215495, -0.21078438, -0.04917353,  0.462745  ],\n",
              "        [-0.3667486 , -0.19503024,  0.577275  , -0.07165211, -0.00421077,\n",
              "         -0.22796983, -0.18680996,  0.05294299, -0.5324395 , -0.22154906],\n",
              "        [-0.26719686,  0.02694166,  0.5362025 ,  0.02890551,  0.1953665 ,\n",
              "          0.03432822, -0.24502936, -0.17337856, -0.21357971, -0.23734587],\n",
              "        [ 0.12599939,  0.50936586,  0.1650672 ,  0.43016666, -0.46891233,\n",
              "          0.3216827 , -0.07070476,  0.25215656, -0.01644838, -0.50041837],\n",
              "        [ 0.32335675, -0.39672098, -0.07158595, -0.03627414,  0.09031516,\n",
              "          0.41907948,  0.44121867, -0.02571362,  0.01279956,  0.5690426 ]],\n",
              "       dtype=float32)>,\n",
              " <tf.Variable 'dense_1/bias:0' shape=(10,) dtype=float32, numpy=array([0., 0., 0., 0., 0., 0., 0., 0., 0., 0.], dtype=float32)>]"
            ]
          },
          "metadata": {},
          "execution_count": 5
        }
      ],
      "source": [
        "# Layers have many useful methods. For example, you can inspect all variables\n",
        "# in a layer using `layer.variables` and trainable variables using\n",
        "# `layer.trainable_variables`. In this case a fully-connected layer\n",
        "# will have variables for weights and biases.\n",
        "layer.variables"
      ]
    },
    {
      "cell_type": "code",
      "execution_count": 6,
      "metadata": {
        "id": "6ilvKjz8_4MQ",
        "colab": {
          "base_uri": "https://localhost:8080/"
        },
        "outputId": "4bc8979b-9603-430f-dad2-9ca43adec990"
      },
      "outputs": [
        {
          "output_type": "execute_result",
          "data": {
            "text/plain": [
              "(<tf.Variable 'dense_1/kernel:0' shape=(5, 10) dtype=float32, numpy=\n",
              " array([[ 0.61700565,  0.2815616 ,  0.09467947, -0.6033537 , -0.1821346 ,\n",
              "         -0.03948337,  0.31215495, -0.21078438, -0.04917353,  0.462745  ],\n",
              "        [-0.3667486 , -0.19503024,  0.577275  , -0.07165211, -0.00421077,\n",
              "         -0.22796983, -0.18680996,  0.05294299, -0.5324395 , -0.22154906],\n",
              "        [-0.26719686,  0.02694166,  0.5362025 ,  0.02890551,  0.1953665 ,\n",
              "          0.03432822, -0.24502936, -0.17337856, -0.21357971, -0.23734587],\n",
              "        [ 0.12599939,  0.50936586,  0.1650672 ,  0.43016666, -0.46891233,\n",
              "          0.3216827 , -0.07070476,  0.25215656, -0.01644838, -0.50041837],\n",
              "        [ 0.32335675, -0.39672098, -0.07158595, -0.03627414,  0.09031516,\n",
              "          0.41907948,  0.44121867, -0.02571362,  0.01279956,  0.5690426 ]],\n",
              "       dtype=float32)>,\n",
              " <tf.Variable 'dense_1/bias:0' shape=(10,) dtype=float32, numpy=array([0., 0., 0., 0., 0., 0., 0., 0., 0., 0.], dtype=float32)>)"
            ]
          },
          "metadata": {},
          "execution_count": 6
        }
      ],
      "source": [
        "# The variables are also accessible through nice accessors\n",
        "layer.kernel, layer.bias"
      ]
    },
    {
      "cell_type": "code",
      "execution_count": 7,
      "metadata": {
        "id": "5Byl3n1k5kIy"
      },
      "outputs": [],
      "source": [
        "class MyDenseLayer(tf.keras.layers.Layer):\n",
        "  def __init__(self, num_outputs):\n",
        "    super(MyDenseLayer, self).__init__()\n",
        "    self.num_outputs = num_outputs\n",
        "\n",
        "  def build(self, input_shape):\n",
        "    self.kernel = self.add_weight(\"kernel\",\n",
        "                                  shape=[int(input_shape[-1]),\n",
        "                                         self.num_outputs])\n",
        "\n",
        "  def call(self, inputs):\n",
        "    return tf.matmul(inputs, self.kernel)\n",
        "\n",
        "layer = MyDenseLayer(10)"
      ]
    },
    {
      "cell_type": "code",
      "execution_count": 8,
      "metadata": {
        "id": "vrmBsYGOnuGO"
      },
      "outputs": [],
      "source": [
        "_ = layer(tf.zeros([10, 5])) # Calling the layer `.builds` it."
      ]
    },
    {
      "cell_type": "code",
      "execution_count": 9,
      "metadata": {
        "id": "1bsLjiPfnvat",
        "colab": {
          "base_uri": "https://localhost:8080/"
        },
        "outputId": "50160490-a536-4f41-8b45-5375657e3154"
      },
      "outputs": [
        {
          "output_type": "stream",
          "name": "stdout",
          "text": [
            "['my_dense_layer/kernel:0']\n"
          ]
        }
      ],
      "source": [
        "print([var.name for var in layer.trainable_variables])"
      ]
    },
    {
      "cell_type": "code",
      "execution_count": 10,
      "metadata": {
        "id": "N30DTXiRASlb"
      },
      "outputs": [],
      "source": [
        "class ResnetIdentityBlock(tf.keras.Model):\n",
        "  def __init__(self, kernel_size, filters):\n",
        "    super(ResnetIdentityBlock, self).__init__(name='')\n",
        "    filters1, filters2, filters3 = filters\n",
        "\n",
        "    self.conv2a = tf.keras.layers.Conv2D(filters1, (1, 1))\n",
        "    self.bn2a = tf.keras.layers.BatchNormalization()\n",
        "\n",
        "    self.conv2b = tf.keras.layers.Conv2D(filters2, kernel_size, padding='same')\n",
        "    self.bn2b = tf.keras.layers.BatchNormalization()\n",
        "\n",
        "    self.conv2c = tf.keras.layers.Conv2D(filters3, (1, 1))\n",
        "    self.bn2c = tf.keras.layers.BatchNormalization()\n",
        "\n",
        "  def call(self, input_tensor, training=False):\n",
        "    x = self.conv2a(input_tensor)\n",
        "    x = self.bn2a(x, training=training)\n",
        "    x = tf.nn.relu(x)\n",
        "\n",
        "    x = self.conv2b(x)\n",
        "    x = self.bn2b(x, training=training)\n",
        "    x = tf.nn.relu(x)\n",
        "\n",
        "    x = self.conv2c(x)\n",
        "    x = self.bn2c(x, training=training)\n",
        "\n",
        "    x += input_tensor\n",
        "    return tf.nn.relu(x)\n",
        "\n",
        "\n",
        "block = ResnetIdentityBlock(1, [1, 2, 3])"
      ]
    },
    {
      "cell_type": "code",
      "execution_count": 11,
      "metadata": {
        "id": "7D8ZR5mqtokj"
      },
      "outputs": [],
      "source": [
        "_ = block(tf.zeros([1, 2, 3, 3]))"
      ]
    },
    {
      "cell_type": "code",
      "execution_count": 12,
      "metadata": {
        "id": "MJ8rzFpdoE_m",
        "colab": {
          "base_uri": "https://localhost:8080/"
        },
        "outputId": "e1a588c7-3633-478d-fbe8-c343db2bd24d"
      },
      "outputs": [
        {
          "output_type": "execute_result",
          "data": {
            "text/plain": [
              "[<keras.src.layers.convolutional.conv2d.Conv2D at 0x78447ed76da0>,\n",
              " <keras.src.layers.normalization.batch_normalization.BatchNormalization at 0x78447ed76770>,\n",
              " <keras.src.layers.convolutional.conv2d.Conv2D at 0x78447ed77700>,\n",
              " <keras.src.layers.normalization.batch_normalization.BatchNormalization at 0x78447ed77760>,\n",
              " <keras.src.layers.convolutional.conv2d.Conv2D at 0x78447ed76290>,\n",
              " <keras.src.layers.normalization.batch_normalization.BatchNormalization at 0x78447ed75d80>]"
            ]
          },
          "metadata": {},
          "execution_count": 12
        }
      ],
      "source": [
        "block.layers"
      ]
    },
    {
      "cell_type": "code",
      "execution_count": 13,
      "metadata": {
        "id": "dewldLuDvQRM",
        "colab": {
          "base_uri": "https://localhost:8080/"
        },
        "outputId": "56e021fb-27f9-4d93-db94-702b12269211"
      },
      "outputs": [
        {
          "output_type": "execute_result",
          "data": {
            "text/plain": [
              "18"
            ]
          },
          "metadata": {},
          "execution_count": 13
        }
      ],
      "source": [
        "len(block.variables)"
      ]
    },
    {
      "cell_type": "code",
      "execution_count": 14,
      "metadata": {
        "id": "FrqIXeSetaYi",
        "colab": {
          "base_uri": "https://localhost:8080/"
        },
        "outputId": "000d13e7-5132-4e0f-8a2b-a18acef1c7db"
      },
      "outputs": [
        {
          "output_type": "stream",
          "name": "stdout",
          "text": [
            "Model: \"\"\n",
            "_________________________________________________________________\n",
            " Layer (type)                Output Shape              Param #   \n",
            "=================================================================\n",
            " conv2d (Conv2D)             multiple                  4         \n",
            "                                                                 \n",
            " batch_normalization (Batch  multiple                  4         \n",
            " Normalization)                                                  \n",
            "                                                                 \n",
            " conv2d_1 (Conv2D)           multiple                  4         \n",
            "                                                                 \n",
            " batch_normalization_1 (Bat  multiple                  8         \n",
            " chNormalization)                                                \n",
            "                                                                 \n",
            " conv2d_2 (Conv2D)           multiple                  9         \n",
            "                                                                 \n",
            " batch_normalization_2 (Bat  multiple                  12        \n",
            " chNormalization)                                                \n",
            "                                                                 \n",
            "=================================================================\n",
            "Total params: 41 (164.00 Byte)\n",
            "Trainable params: 29 (116.00 Byte)\n",
            "Non-trainable params: 12 (48.00 Byte)\n",
            "_________________________________________________________________\n"
          ]
        }
      ],
      "source": [
        "block.summary()"
      ]
    },
    {
      "cell_type": "code",
      "execution_count": 15,
      "metadata": {
        "id": "L9frk7Ur4uvJ",
        "colab": {
          "base_uri": "https://localhost:8080/"
        },
        "outputId": "48c2cad4-df09-4d3a-e922-bdf4c37470a4"
      },
      "outputs": [
        {
          "output_type": "execute_result",
          "data": {
            "text/plain": [
              "<tf.Tensor: shape=(1, 2, 3, 3), dtype=float32, numpy=\n",
              "array([[[[0., 0., 0.],\n",
              "         [0., 0., 0.],\n",
              "         [0., 0., 0.]],\n",
              "\n",
              "        [[0., 0., 0.],\n",
              "         [0., 0., 0.],\n",
              "         [0., 0., 0.]]]], dtype=float32)>"
            ]
          },
          "metadata": {},
          "execution_count": 15
        }
      ],
      "source": [
        "my_seq = tf.keras.Sequential([tf.keras.layers.Conv2D(1, (1, 1),\n",
        "                                                    input_shape=(\n",
        "                                                        None, None, 3)),\n",
        "                             tf.keras.layers.BatchNormalization(),\n",
        "                             tf.keras.layers.Conv2D(2, 1,\n",
        "                                                    padding='same'),\n",
        "                             tf.keras.layers.BatchNormalization(),\n",
        "                             tf.keras.layers.Conv2D(3, (1, 1)),\n",
        "                             tf.keras.layers.BatchNormalization()])\n",
        "my_seq(tf.zeros([1, 2, 3, 3]))"
      ]
    },
    {
      "cell_type": "code",
      "execution_count": 16,
      "metadata": {
        "id": "tVAsbFITuScB",
        "colab": {
          "base_uri": "https://localhost:8080/"
        },
        "outputId": "83d137cd-e6a2-429c-de1e-8ea66c28cf55"
      },
      "outputs": [
        {
          "output_type": "stream",
          "name": "stdout",
          "text": [
            "Model: \"sequential\"\n",
            "_________________________________________________________________\n",
            " Layer (type)                Output Shape              Param #   \n",
            "=================================================================\n",
            " conv2d_3 (Conv2D)           (None, None, None, 1)     4         \n",
            "                                                                 \n",
            " batch_normalization_3 (Bat  (None, None, None, 1)     4         \n",
            " chNormalization)                                                \n",
            "                                                                 \n",
            " conv2d_4 (Conv2D)           (None, None, None, 2)     4         \n",
            "                                                                 \n",
            " batch_normalization_4 (Bat  (None, None, None, 2)     8         \n",
            " chNormalization)                                                \n",
            "                                                                 \n",
            " conv2d_5 (Conv2D)           (None, None, None, 3)     9         \n",
            "                                                                 \n",
            " batch_normalization_5 (Bat  (None, None, None, 3)     12        \n",
            " chNormalization)                                                \n",
            "                                                                 \n",
            "=================================================================\n",
            "Total params: 41 (164.00 Byte)\n",
            "Trainable params: 29 (116.00 Byte)\n",
            "Non-trainable params: 12 (48.00 Byte)\n",
            "_________________________________________________________________\n"
          ]
        }
      ],
      "source": [
        "my_seq.summary()"
      ]
    }
  ],
  "metadata": {
    "colab": {
      "name": "custom_layers.ipynb",
      "toc_visible": true,
      "provenance": []
    },
    "kernelspec": {
      "display_name": "Python 3",
      "name": "python3"
    }
  },
  "nbformat": 4,
  "nbformat_minor": 0
}