{
 "cells": [
  {
   "cell_type": "code",
   "execution_count": 1,
   "metadata": {},
   "outputs": [
    {
     "name": "stdout",
     "output_type": "stream",
     "text": [
      "WARNING:tensorflow:From c:\\Users\\Dr. Ismail\\Desktop\\tf\\TensorFlow-Notebooks\\tf\\Lib\\site-packages\\keras\\src\\losses.py:2976: The name tf.losses.sparse_softmax_cross_entropy is deprecated. Please use tf.compat.v1.losses.sparse_softmax_cross_entropy instead.\n",
      "\n"
     ]
    }
   ],
   "source": [
    "import tensorflow as tf\n",
    "from tensorflow import keras"
   ]
  },
  {
   "cell_type": "code",
   "execution_count": 2,
   "metadata": {},
   "outputs": [
    {
     "name": "stdout",
     "output_type": "stream",
     "text": [
      "Note: you may need to restart the kernel to use updated packages.\n"
     ]
    },
    {
     "name": "stderr",
     "output_type": "stream",
     "text": [
      "\n",
      "[notice] A new release of pip is available: 23.3.1 -> 23.3.2\n",
      "[notice] To update, run: python.exe -m pip install --upgrade pip\n"
     ]
    }
   ],
   "source": [
    "! pip install -q -U keras-tuner"
   ]
  },
  {
   "cell_type": "code",
   "execution_count": 3,
   "metadata": {},
   "outputs": [],
   "source": [
    "import keras_tuner as kt"
   ]
  },
  {
   "cell_type": "code",
   "execution_count": 4,
   "metadata": {},
   "outputs": [],
   "source": [
    "(img_train, label_train), (img_test, label_test) = keras.datasets.fashion_mnist.load_data()"
   ]
  },
  {
   "cell_type": "code",
   "execution_count": 5,
   "metadata": {},
   "outputs": [],
   "source": [
    "# Normalize pixel values between 0 and 1\n",
    "img_train = img_train.astype('float32') / 255.0\n",
    "img_test = img_test.astype('float32') / 255.0"
   ]
  },
  {
   "cell_type": "code",
   "execution_count": 6,
   "metadata": {},
   "outputs": [],
   "source": [
    "def model_builder(hp):\n",
    "  model = keras.Sequential()\n",
    "  model.add(keras.layers.Flatten(input_shape=(28, 28)))\n",
    "\n",
    "  # Tune the number of units in the first Dense layer\n",
    "  # Choose an optimal value between 32-512\n",
    "  hp_units = hp.Int('units', min_value=32, max_value=512, step=32)\n",
    "  model.add(keras.layers.Dense(units=hp_units, activation='relu'))\n",
    "  model.add(keras.layers.Dense(10))\n",
    "\n",
    "  # Tune the learning rate for the optimizer\n",
    "  # Choose an optimal value from 0.01, 0.001, or 0.0001\n",
    "  hp_learning_rate = hp.Choice('learning_rate', values=[1e-2, 1e-3, 1e-4])\n",
    "\n",
    "  model.compile(optimizer=keras.optimizers.Adam(learning_rate=hp_learning_rate),\n",
    "                loss=keras.losses.SparseCategoricalCrossentropy(from_logits=True),\n",
    "                metrics=['accuracy'])\n",
    "\n",
    "  return model"
   ]
  },
  {
   "cell_type": "code",
   "execution_count": 7,
   "metadata": {},
   "outputs": [
    {
     "name": "stdout",
     "output_type": "stream",
     "text": [
      "WARNING:tensorflow:From c:\\Users\\Dr. Ismail\\Desktop\\tf\\TensorFlow-Notebooks\\tf\\Lib\\site-packages\\keras\\src\\backend.py:873: The name tf.get_default_graph is deprecated. Please use tf.compat.v1.get_default_graph instead.\n",
      "\n"
     ]
    }
   ],
   "source": [
    "tuner = kt.Hyperband(model_builder,\n",
    "                     objective='val_accuracy',\n",
    "                     max_epochs=10,\n",
    "                     factor=3,\n",
    "                     directory='my_dir',\n",
    "                     project_name='intro_to_kt')"
   ]
  },
  {
   "cell_type": "code",
   "execution_count": 8,
   "metadata": {},
   "outputs": [],
   "source": [
    "stop_early = tf.keras.callbacks.EarlyStopping(monitor='val_loss', patience=5)"
   ]
  },
  {
   "cell_type": "code",
   "execution_count": 9,
   "metadata": {},
   "outputs": [
    {
     "name": "stdout",
     "output_type": "stream",
     "text": [
      "Trial 30 Complete [00h 01m 35s]\n",
      "val_accuracy: 0.8738333582878113\n",
      "\n",
      "Best val_accuracy So Far: 0.8880833387374878\n",
      "Total elapsed time: 00h 26m 29s\n",
      "\n",
      "The hyperparameter search is complete. The optimal number of units in the first densely-connected\n",
      "layer is 256 and the optimal learning rate for the optimizer\n",
      "is 0.001.\n",
      "\n"
     ]
    }
   ],
   "source": [
    "tuner.search(img_train, label_train, epochs=50, validation_split=0.2, callbacks=[stop_early])\n",
    "\n",
    "# Get the optimal hyperparameters\n",
    "best_hps=tuner.get_best_hyperparameters(num_trials=1)[0]\n",
    "\n",
    "print(f\"\"\"\n",
    "The hyperparameter search is complete. The optimal number of units in the first densely-connected\n",
    "layer is {best_hps.get('units')} and the optimal learning rate for the optimizer\n",
    "is {best_hps.get('learning_rate')}.\n",
    "\"\"\")"
   ]
  },
  {
   "cell_type": "code",
   "execution_count": 10,
   "metadata": {},
   "outputs": [
    {
     "name": "stdout",
     "output_type": "stream",
     "text": [
      "Epoch 1/50\n",
      "1500/1500 [==============================] - 12s 7ms/step - loss: 0.5036 - accuracy: 0.8230 - val_loss: 0.4203 - val_accuracy: 0.8476\n",
      "Epoch 2/50\n",
      "1500/1500 [==============================] - 11s 7ms/step - loss: 0.3757 - accuracy: 0.8635 - val_loss: 0.3662 - val_accuracy: 0.8632\n",
      "Epoch 3/50\n",
      "1500/1500 [==============================] - 10s 7ms/step - loss: 0.3359 - accuracy: 0.8772 - val_loss: 0.3713 - val_accuracy: 0.8624\n",
      "Epoch 4/50\n",
      "1500/1500 [==============================] - 12s 8ms/step - loss: 0.3086 - accuracy: 0.8851 - val_loss: 0.3503 - val_accuracy: 0.8691\n",
      "Epoch 5/50\n",
      "1500/1500 [==============================] - 12s 8ms/step - loss: 0.2887 - accuracy: 0.8932 - val_loss: 0.3218 - val_accuracy: 0.8817\n",
      "Epoch 6/50\n",
      "1500/1500 [==============================] - 10s 6ms/step - loss: 0.2726 - accuracy: 0.8990 - val_loss: 0.3321 - val_accuracy: 0.8793\n",
      "Epoch 7/50\n",
      "1500/1500 [==============================] - 11s 8ms/step - loss: 0.2587 - accuracy: 0.9039 - val_loss: 0.3284 - val_accuracy: 0.8809\n",
      "Epoch 8/50\n",
      "1500/1500 [==============================] - 11s 7ms/step - loss: 0.2475 - accuracy: 0.9072 - val_loss: 0.3217 - val_accuracy: 0.8862\n",
      "Epoch 9/50\n",
      "1500/1500 [==============================] - 14s 9ms/step - loss: 0.2367 - accuracy: 0.9105 - val_loss: 0.3055 - val_accuracy: 0.8933\n",
      "Epoch 10/50\n",
      "1500/1500 [==============================] - 10s 7ms/step - loss: 0.2256 - accuracy: 0.9153 - val_loss: 0.3434 - val_accuracy: 0.8812\n",
      "Epoch 11/50\n",
      "1500/1500 [==============================] - 10s 7ms/step - loss: 0.2167 - accuracy: 0.9173 - val_loss: 0.3173 - val_accuracy: 0.8933\n",
      "Epoch 12/50\n",
      "1500/1500 [==============================] - 11s 7ms/step - loss: 0.2092 - accuracy: 0.9206 - val_loss: 0.3143 - val_accuracy: 0.8942\n",
      "Epoch 13/50\n",
      "1500/1500 [==============================] - 12s 8ms/step - loss: 0.2022 - accuracy: 0.9248 - val_loss: 0.3413 - val_accuracy: 0.8873\n",
      "Epoch 14/50\n",
      "1500/1500 [==============================] - 13s 8ms/step - loss: 0.1942 - accuracy: 0.9265 - val_loss: 0.3196 - val_accuracy: 0.8927\n",
      "Epoch 15/50\n",
      "1500/1500 [==============================] - 12s 8ms/step - loss: 0.1889 - accuracy: 0.9283 - val_loss: 0.3697 - val_accuracy: 0.8813\n",
      "Epoch 16/50\n",
      "1500/1500 [==============================] - 12s 8ms/step - loss: 0.1823 - accuracy: 0.9312 - val_loss: 0.3248 - val_accuracy: 0.8929\n",
      "Epoch 17/50\n",
      "1500/1500 [==============================] - 11s 8ms/step - loss: 0.1739 - accuracy: 0.9352 - val_loss: 0.3358 - val_accuracy: 0.8895\n",
      "Epoch 18/50\n",
      "1500/1500 [==============================] - 10s 7ms/step - loss: 0.1716 - accuracy: 0.9357 - val_loss: 0.3451 - val_accuracy: 0.8917\n",
      "Epoch 19/50\n",
      "1500/1500 [==============================] - 10s 7ms/step - loss: 0.1670 - accuracy: 0.9370 - val_loss: 0.3448 - val_accuracy: 0.8934\n",
      "Epoch 20/50\n",
      "1500/1500 [==============================] - 13s 9ms/step - loss: 0.1582 - accuracy: 0.9406 - val_loss: 0.3518 - val_accuracy: 0.8898\n",
      "Epoch 21/50\n",
      "1500/1500 [==============================] - 11s 8ms/step - loss: 0.1569 - accuracy: 0.9404 - val_loss: 0.3413 - val_accuracy: 0.8932\n",
      "Epoch 22/50\n",
      "1500/1500 [==============================] - 11s 8ms/step - loss: 0.1518 - accuracy: 0.9422 - val_loss: 0.3630 - val_accuracy: 0.8877\n",
      "Epoch 23/50\n",
      "1500/1500 [==============================] - 12s 8ms/step - loss: 0.1457 - accuracy: 0.9445 - val_loss: 0.3702 - val_accuracy: 0.8898\n",
      "Epoch 24/50\n",
      "1500/1500 [==============================] - 14s 10ms/step - loss: 0.1414 - accuracy: 0.9467 - val_loss: 0.3611 - val_accuracy: 0.8893\n",
      "Epoch 25/50\n",
      "1500/1500 [==============================] - 14s 9ms/step - loss: 0.1389 - accuracy: 0.9474 - val_loss: 0.3705 - val_accuracy: 0.8915\n",
      "Epoch 26/50\n",
      "1500/1500 [==============================] - 12s 8ms/step - loss: 0.1349 - accuracy: 0.9487 - val_loss: 0.3795 - val_accuracy: 0.8914\n",
      "Epoch 27/50\n",
      "1500/1500 [==============================] - 10s 7ms/step - loss: 0.1271 - accuracy: 0.9528 - val_loss: 0.3796 - val_accuracy: 0.8914\n",
      "Epoch 28/50\n",
      "1500/1500 [==============================] - 10s 7ms/step - loss: 0.1293 - accuracy: 0.9506 - val_loss: 0.3868 - val_accuracy: 0.8934\n",
      "Epoch 29/50\n",
      "1500/1500 [==============================] - 10s 7ms/step - loss: 0.1242 - accuracy: 0.9535 - val_loss: 0.4073 - val_accuracy: 0.8923\n",
      "Epoch 30/50\n",
      "1500/1500 [==============================] - 11s 8ms/step - loss: 0.1209 - accuracy: 0.9540 - val_loss: 0.3940 - val_accuracy: 0.8932\n",
      "Epoch 31/50\n",
      "1500/1500 [==============================] - 12s 8ms/step - loss: 0.1177 - accuracy: 0.9557 - val_loss: 0.4255 - val_accuracy: 0.8870\n",
      "Epoch 32/50\n",
      "1500/1500 [==============================] - 11s 7ms/step - loss: 0.1154 - accuracy: 0.9562 - val_loss: 0.4054 - val_accuracy: 0.8863\n",
      "Epoch 33/50\n",
      "1500/1500 [==============================] - 10s 7ms/step - loss: 0.1124 - accuracy: 0.9578 - val_loss: 0.4233 - val_accuracy: 0.8918\n",
      "Epoch 34/50\n",
      "1500/1500 [==============================] - 13s 9ms/step - loss: 0.1074 - accuracy: 0.9596 - val_loss: 0.4096 - val_accuracy: 0.8953\n",
      "Epoch 35/50\n",
      "1500/1500 [==============================] - 11s 7ms/step - loss: 0.1079 - accuracy: 0.9589 - val_loss: 0.4104 - val_accuracy: 0.8957\n",
      "Epoch 36/50\n",
      "1500/1500 [==============================] - 11s 7ms/step - loss: 0.1043 - accuracy: 0.9605 - val_loss: 0.4365 - val_accuracy: 0.8909\n",
      "Epoch 37/50\n",
      "1500/1500 [==============================] - 10s 7ms/step - loss: 0.1005 - accuracy: 0.9622 - val_loss: 0.4336 - val_accuracy: 0.8926\n",
      "Epoch 38/50\n",
      "1500/1500 [==============================] - 11s 7ms/step - loss: 0.1003 - accuracy: 0.9626 - val_loss: 0.4516 - val_accuracy: 0.8884\n",
      "Epoch 39/50\n",
      "1500/1500 [==============================] - 11s 7ms/step - loss: 0.0982 - accuracy: 0.9632 - val_loss: 0.4701 - val_accuracy: 0.8889\n",
      "Epoch 40/50\n",
      "1500/1500 [==============================] - 11s 7ms/step - loss: 0.0947 - accuracy: 0.9643 - val_loss: 0.4742 - val_accuracy: 0.8942\n",
      "Epoch 41/50\n",
      "1500/1500 [==============================] - 11s 7ms/step - loss: 0.0927 - accuracy: 0.9650 - val_loss: 0.4841 - val_accuracy: 0.8913\n",
      "Epoch 42/50\n",
      "1500/1500 [==============================] - 11s 7ms/step - loss: 0.0944 - accuracy: 0.9645 - val_loss: 0.4521 - val_accuracy: 0.8923\n",
      "Epoch 43/50\n",
      "1500/1500 [==============================] - 14s 9ms/step - loss: 0.0871 - accuracy: 0.9666 - val_loss: 0.4896 - val_accuracy: 0.8957\n",
      "Epoch 44/50\n",
      "1500/1500 [==============================] - 13s 9ms/step - loss: 0.0899 - accuracy: 0.9658 - val_loss: 0.4913 - val_accuracy: 0.8907\n",
      "Epoch 45/50\n",
      "1500/1500 [==============================] - 11s 7ms/step - loss: 0.0839 - accuracy: 0.9687 - val_loss: 0.5019 - val_accuracy: 0.8928\n",
      "Epoch 46/50\n",
      "1500/1500 [==============================] - 11s 7ms/step - loss: 0.0856 - accuracy: 0.9679 - val_loss: 0.5087 - val_accuracy: 0.8886\n",
      "Epoch 47/50\n",
      "1500/1500 [==============================] - 10s 7ms/step - loss: 0.0798 - accuracy: 0.9701 - val_loss: 0.4908 - val_accuracy: 0.8940\n",
      "Epoch 48/50\n",
      "1500/1500 [==============================] - 9s 6ms/step - loss: 0.0807 - accuracy: 0.9699 - val_loss: 0.5224 - val_accuracy: 0.8887\n",
      "Epoch 49/50\n",
      "1500/1500 [==============================] - 9s 6ms/step - loss: 0.0803 - accuracy: 0.9705 - val_loss: 0.5415 - val_accuracy: 0.8873\n",
      "Epoch 50/50\n",
      "1500/1500 [==============================] - 9s 6ms/step - loss: 0.0805 - accuracy: 0.9698 - val_loss: 0.5774 - val_accuracy: 0.8888\n",
      "Best epoch: 35\n"
     ]
    }
   ],
   "source": [
    "# Build the model with the optimal hyperparameters and train it on the data for 50 epochs\n",
    "model = tuner.hypermodel.build(best_hps)\n",
    "history = model.fit(img_train, label_train, epochs=50, validation_split=0.2)\n",
    "\n",
    "val_acc_per_epoch = history.history['val_accuracy']\n",
    "best_epoch = val_acc_per_epoch.index(max(val_acc_per_epoch)) + 1\n",
    "print('Best epoch: %d' % (best_epoch,))"
   ]
  },
  {
   "cell_type": "code",
   "execution_count": 11,
   "metadata": {},
   "outputs": [
    {
     "name": "stdout",
     "output_type": "stream",
     "text": [
      "Epoch 1/35\n",
      "1500/1500 [==============================] - 10s 6ms/step - loss: 0.5057 - accuracy: 0.8202 - val_loss: 0.4355 - val_accuracy: 0.8445\n",
      "Epoch 2/35\n",
      "1500/1500 [==============================] - 9s 6ms/step - loss: 0.3745 - accuracy: 0.8634 - val_loss: 0.3845 - val_accuracy: 0.8607\n",
      "Epoch 3/35\n",
      "1500/1500 [==============================] - 9s 6ms/step - loss: 0.3339 - accuracy: 0.8769 - val_loss: 0.3359 - val_accuracy: 0.8767\n",
      "Epoch 4/35\n",
      "1500/1500 [==============================] - 9s 6ms/step - loss: 0.3080 - accuracy: 0.8860 - val_loss: 0.3299 - val_accuracy: 0.8824\n",
      "Epoch 5/35\n",
      "1500/1500 [==============================] - 9s 6ms/step - loss: 0.2887 - accuracy: 0.8922 - val_loss: 0.3402 - val_accuracy: 0.8808\n",
      "Epoch 6/35\n",
      "1500/1500 [==============================] - 9s 6ms/step - loss: 0.2756 - accuracy: 0.8975 - val_loss: 0.3292 - val_accuracy: 0.8802\n",
      "Epoch 7/35\n",
      "1500/1500 [==============================] - 9s 6ms/step - loss: 0.2622 - accuracy: 0.9023 - val_loss: 0.3176 - val_accuracy: 0.8862\n",
      "Epoch 8/35\n",
      "1500/1500 [==============================] - 9s 6ms/step - loss: 0.2477 - accuracy: 0.9064 - val_loss: 0.3264 - val_accuracy: 0.8868\n",
      "Epoch 9/35\n",
      "1500/1500 [==============================] - 9s 6ms/step - loss: 0.2396 - accuracy: 0.9100 - val_loss: 0.3165 - val_accuracy: 0.8905\n",
      "Epoch 10/35\n",
      "1500/1500 [==============================] - 9s 6ms/step - loss: 0.2290 - accuracy: 0.9141 - val_loss: 0.3178 - val_accuracy: 0.8903\n",
      "Epoch 11/35\n",
      "1500/1500 [==============================] - 9s 6ms/step - loss: 0.2188 - accuracy: 0.9185 - val_loss: 0.3326 - val_accuracy: 0.8836\n",
      "Epoch 12/35\n",
      "1500/1500 [==============================] - 9s 6ms/step - loss: 0.2108 - accuracy: 0.9207 - val_loss: 0.3159 - val_accuracy: 0.8916\n",
      "Epoch 13/35\n",
      "1500/1500 [==============================] - 9s 6ms/step - loss: 0.2041 - accuracy: 0.9238 - val_loss: 0.3335 - val_accuracy: 0.8861\n",
      "Epoch 14/35\n",
      "1500/1500 [==============================] - 9s 6ms/step - loss: 0.1966 - accuracy: 0.9260 - val_loss: 0.3235 - val_accuracy: 0.8899\n",
      "Epoch 15/35\n",
      "1500/1500 [==============================] - 9s 6ms/step - loss: 0.1904 - accuracy: 0.9277 - val_loss: 0.3281 - val_accuracy: 0.8928\n",
      "Epoch 16/35\n",
      "1500/1500 [==============================] - 9s 6ms/step - loss: 0.1837 - accuracy: 0.9307 - val_loss: 0.3239 - val_accuracy: 0.8936\n",
      "Epoch 17/35\n",
      "1500/1500 [==============================] - 9s 6ms/step - loss: 0.1770 - accuracy: 0.9330 - val_loss: 0.3369 - val_accuracy: 0.8941\n",
      "Epoch 18/35\n",
      "1500/1500 [==============================] - 9s 6ms/step - loss: 0.1715 - accuracy: 0.9354 - val_loss: 0.3788 - val_accuracy: 0.8836\n",
      "Epoch 19/35\n",
      "1500/1500 [==============================] - 9s 6ms/step - loss: 0.1652 - accuracy: 0.9386 - val_loss: 0.3344 - val_accuracy: 0.8942\n",
      "Epoch 20/35\n",
      "1500/1500 [==============================] - 9s 6ms/step - loss: 0.1609 - accuracy: 0.9388 - val_loss: 0.3377 - val_accuracy: 0.8947\n",
      "Epoch 21/35\n",
      "1500/1500 [==============================] - 9s 6ms/step - loss: 0.1573 - accuracy: 0.9410 - val_loss: 0.3540 - val_accuracy: 0.8912\n",
      "Epoch 22/35\n",
      "1500/1500 [==============================] - 9s 6ms/step - loss: 0.1510 - accuracy: 0.9430 - val_loss: 0.3419 - val_accuracy: 0.8978\n",
      "Epoch 23/35\n",
      "1500/1500 [==============================] - 10s 6ms/step - loss: 0.1467 - accuracy: 0.9439 - val_loss: 0.3597 - val_accuracy: 0.8938\n",
      "Epoch 24/35\n",
      "1500/1500 [==============================] - 9s 6ms/step - loss: 0.1432 - accuracy: 0.9466 - val_loss: 0.3742 - val_accuracy: 0.8910\n",
      "Epoch 25/35\n",
      "1500/1500 [==============================] - 10s 6ms/step - loss: 0.1391 - accuracy: 0.9484 - val_loss: 0.3943 - val_accuracy: 0.8864\n",
      "Epoch 26/35\n",
      "1500/1500 [==============================] - 10s 7ms/step - loss: 0.1369 - accuracy: 0.9481 - val_loss: 0.3820 - val_accuracy: 0.8928\n",
      "Epoch 27/35\n",
      "1500/1500 [==============================] - 9s 6ms/step - loss: 0.1296 - accuracy: 0.9515 - val_loss: 0.3838 - val_accuracy: 0.8936\n",
      "Epoch 28/35\n",
      "1500/1500 [==============================] - 9s 6ms/step - loss: 0.1281 - accuracy: 0.9519 - val_loss: 0.3914 - val_accuracy: 0.8925\n",
      "Epoch 29/35\n",
      "1500/1500 [==============================] - 9s 6ms/step - loss: 0.1247 - accuracy: 0.9531 - val_loss: 0.3813 - val_accuracy: 0.8946\n",
      "Epoch 30/35\n",
      "1500/1500 [==============================] - 9s 6ms/step - loss: 0.1218 - accuracy: 0.9543 - val_loss: 0.4375 - val_accuracy: 0.8817\n",
      "Epoch 31/35\n",
      "1500/1500 [==============================] - 9s 6ms/step - loss: 0.1204 - accuracy: 0.9550 - val_loss: 0.3892 - val_accuracy: 0.8943\n",
      "Epoch 32/35\n",
      "1500/1500 [==============================] - 9s 6ms/step - loss: 0.1155 - accuracy: 0.9562 - val_loss: 0.3925 - val_accuracy: 0.8947\n",
      "Epoch 33/35\n",
      "1500/1500 [==============================] - 9s 6ms/step - loss: 0.1149 - accuracy: 0.9570 - val_loss: 0.4076 - val_accuracy: 0.8928\n",
      "Epoch 34/35\n",
      "1500/1500 [==============================] - 9s 6ms/step - loss: 0.1085 - accuracy: 0.9597 - val_loss: 0.4427 - val_accuracy: 0.8920\n",
      "Epoch 35/35\n",
      "1500/1500 [==============================] - 9s 6ms/step - loss: 0.1065 - accuracy: 0.9595 - val_loss: 0.4324 - val_accuracy: 0.8947\n"
     ]
    },
    {
     "data": {
      "text/plain": [
       "<keras.src.callbacks.History at 0x18df1b0e690>"
      ]
     },
     "execution_count": 11,
     "metadata": {},
     "output_type": "execute_result"
    }
   ],
   "source": [
    "hypermodel = tuner.hypermodel.build(best_hps)\n",
    "\n",
    "# Retrain the model\n",
    "hypermodel.fit(img_train, label_train, epochs=best_epoch, validation_split=0.2)"
   ]
  },
  {
   "cell_type": "code",
   "execution_count": 12,
   "metadata": {},
   "outputs": [
    {
     "name": "stdout",
     "output_type": "stream",
     "text": [
      "313/313 [==============================] - 1s 3ms/step - loss: 0.4850 - accuracy: 0.8862\n",
      "[test loss, test accuracy]: [0.4850344657897949, 0.8862000107765198]\n"
     ]
    }
   ],
   "source": [
    "eval_result = hypermodel.evaluate(img_test, label_test)\n",
    "print(\"[test loss, test accuracy]:\", eval_result)"
   ]
  }
 ],
 "metadata": {
  "kernelspec": {
   "display_name": "tf",
   "language": "python",
   "name": "python3"
  },
  "language_info": {
   "codemirror_mode": {
    "name": "ipython",
    "version": 3
   },
   "file_extension": ".py",
   "mimetype": "text/x-python",
   "name": "python",
   "nbconvert_exporter": "python",
   "pygments_lexer": "ipython3",
   "version": "3.11.2"
  }
 },
 "nbformat": 4,
 "nbformat_minor": 2
}
